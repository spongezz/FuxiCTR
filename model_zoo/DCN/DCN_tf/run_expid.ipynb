{
 "cells": [
  {
   "cell_type": "code",
   "execution_count": 2,
   "metadata": {},
   "outputs": [
    {
     "name": "stdout",
     "output_type": "stream",
     "text": [
      "fuxictr.__version__=2.0.0\n"
     ]
    },
    {
     "name": "stderr",
     "output_type": "stream",
     "text": [
      "2023-03-26 19:44:47.238493: I tensorflow/core/platform/cpu_feature_guard.cc:193] This TensorFlow binary is optimized with oneAPI Deep Neural Network Library (oneDNN) to use the following CPU instructions in performance-critical operations:  AVX2 AVX_VNNI FMA\n",
      "To enable them in other operations, rebuild TensorFlow with the appropriate compiler flags.\n",
      "2023-03-26 19:44:47.318258: I tensorflow/core/util/port.cc:104] oneDNN custom operations are on. You may see slightly different numerical results due to floating-point round-off errors from different computation orders. To turn them off, set the environment variable `TF_ENABLE_ONEDNN_OPTS=0`.\n",
      "2023-03-26 19:44:47.623924: W tensorflow/compiler/xla/stream_executor/platform/default/dso_loader.cc:64] Could not load dynamic library 'libnvinfer.so.7'; dlerror: libnvinfer.so.7: cannot open shared object file: No such file or directory\n",
      "2023-03-26 19:44:47.623953: W tensorflow/compiler/xla/stream_executor/platform/default/dso_loader.cc:64] Could not load dynamic library 'libnvinfer_plugin.so.7'; dlerror: libnvinfer_plugin.so.7: cannot open shared object file: No such file or directory\n",
      "2023-03-26 19:44:47.623956: W tensorflow/compiler/tf2tensorrt/utils/py_utils.cc:38] TF-TRT Warning: Cannot dlopen some TensorRT libraries. If you would like to use Nvidia GPU with TensorRT, please make sure the missing libraries mentioned above are installed properly.\n",
      "usage: ipykernel_launcher.py [-h] [--config CONFIG] [--expid EXPID]\n",
      "                             [--gpu GPU]\n",
      "ipykernel_launcher.py: error: unrecognized arguments: --ip=127.0.0.1 --stdin=9032 --control=9030 --hb=9029 --Session.signature_scheme=\"hmac-sha256\" --Session.key=b\"a104d953-cdbe-40d8-a5a5-ef7defefb719\" --shell=9031 --transport=\"tcp\" --iopub=9033 --f=/home/zhuangzhong/.local/share/jupyter/runtime/kernel-v2-131830jQCiW0u75vXi.json\n"
     ]
    },
    {
     "ename": "SystemExit",
     "evalue": "2",
     "output_type": "error",
     "traceback": [
      "An exception has occurred, use %tb to see the full traceback.\n",
      "\u001b[0;31mSystemExit\u001b[0m\u001b[0;31m:\u001b[0m 2\n"
     ]
    },
    {
     "name": "stderr",
     "output_type": "stream",
     "text": [
      "/home/zhuangzhong/anaconda3/lib/python3.9/site-packages/IPython/core/interactiveshell.py:3465: UserWarning: To exit: use 'exit', 'quit', or Ctrl-D.\n",
      "  warn(\"To exit: use 'exit', 'quit', or Ctrl-D.\", stacklevel=1)\n"
     ]
    }
   ],
   "source": [
    "# =========================================================================\n",
    "# Copyright (C) 2023. Huawei Technologies Co., Ltd. All rights reserved.\n",
    "# \n",
    "# Licensed under the Apache License, Version 2.0 (the \"License\");\n",
    "# you may not use this file except in compliance with the License.\n",
    "# You may obtain a copy of the License at\n",
    "#\n",
    "#     http://www.apache.org/licenses/LICENSE-2.0\n",
    "#\n",
    "# Unless required by applicable law or agreed to in writing, software\n",
    "# distributed under the License is distributed on an \"AS IS\" BASIS,\n",
    "# WITHOUT WARRANTIES OR CONDITIONS OF ANY KIND, either express or implied.\n",
    "# See the License for the specific language governing permissions and\n",
    "# limitations under the License.\n",
    "# =========================================================================\n",
    "\n",
    "\n",
    "import os\n",
    "# os.chdir(os.path.dirname(os.path.realpath(__file__)))\n",
    "import sys\n",
    "import logging\n",
    "import fuxictr_version\n",
    "from datetime import datetime\n",
    "from fuxictr.utils import load_config, set_logger, print_to_json, print_to_list\n",
    "from fuxictr.features import FeatureMap\n",
    "from fuxictr.tensorflow.tf_utils import seed_everything\n",
    "from fuxictr.tensorflow.dataloaders import TFRecordDataLoader\n",
    "import tensorflow as tf\n",
    "import src as model_zoo\n",
    "import gc\n",
    "import argparse\n",
    "import os\n",
    "from pathlib import Path\n",
    "\n",
    "# if __name__ == '__main__':\n",
    "''' Usage: python run_expid.py --config {config_dir} --expid {experiment_id} --gpu {gpu_device_id}\n",
    "'''\n",
    "parser = argparse.ArgumentParser()\n",
    "parser.add_argument('--config', type=str, default='./config/', help='The config directory.')\n",
    "parser.add_argument('--expid', type=str, default='DCN_test', help='The experiment id to run.')\n",
    "parser.add_argument('--gpu', type=int, default=0, help='The gpu index, -1 for cpu')\n",
    "args = vars(parser.parse_args())\n",
    "\n",
    "gpus = tf.config.experimental.list_physical_devices('GPU')\n",
    "if args['gpu'] >= 0:\n",
    "    tf.config.set_visible_devices(gpus[args['gpu']], 'GPU')\n",
    "    tf.config.experimental.set_memory_growth(gpus[args['gpu']], True)\n",
    "experiment_id = args['expid']\n",
    "params = load_config(args['config'], experiment_id)\n",
    "set_logger(params)\n",
    "logging.info(\"Params: \" + print_to_json(params))\n",
    "seed_everything(seed=params['seed'])\n",
    "\n",
    "data_dir = os.path.join(params['data_root'], params['dataset_id'])\n",
    "feature_map_json = os.path.join(data_dir, \"feature_map.json\")\n",
    "feature_map = FeatureMap(params['dataset_id'], data_dir)\n",
    "feature_map.load(feature_map_json, params)\n",
    "logging.info(\"Feature specs: \" + print_to_json(feature_map.features))\n",
    "\n",
    "model_class = getattr(model_zoo, params['model'])\n",
    "model = model_class(feature_map, **params)\n",
    "\n",
    "train_gen, valid_gen = TFRecordDataLoader(feature_map, stage='train', **params).make_iterator()\n",
    "model.fit(train_gen, validation_data=valid_gen, **params)\n",
    "\n",
    "logging.info('****** Validation evaluation ******')\n",
    "valid_result = model.evaluate(valid_gen)\n",
    "del train_gen, valid_gen\n",
    "gc.collect()\n",
    "\n",
    "logging.info('******** Test evaluation ********')\n",
    "test_gen = TFRecordDataLoader(feature_map, stage='test', **params).make_iterator()\n",
    "test_result = {}\n",
    "if test_gen:\n",
    "    test_result = model.evaluate(test_gen)\n",
    "result_filename = Path(args['config']).name.replace(\".yaml\", \"\") + '.csv'\n",
    "model.save(filepath=\"./model\")\n",
    "with open(result_filename, 'a+') as fw:\n",
    "    fw.write(' {},[command] python {},[exp_id] {},[dataset_id] {},[train] {},[val] {},[test] {}\\n' \\\n",
    "        .format(datetime.now().strftime('%Y%m%d-%H%M%S'), \n",
    "                ' '.join(sys.argv), experiment_id, params['dataset_id'],\n",
    "                \"N.A.\", print_to_list(valid_result), print_to_list(test_result)))\n",
    "\n"
   ]
  }
 ],
 "metadata": {
  "kernelspec": {
   "display_name": "base",
   "language": "python",
   "name": "python3"
  },
  "language_info": {
   "codemirror_mode": {
    "name": "ipython",
    "version": 3
   },
   "file_extension": ".py",
   "mimetype": "text/x-python",
   "name": "python",
   "nbconvert_exporter": "python",
   "pygments_lexer": "ipython3",
   "version": "3.9.13"
  },
  "orig_nbformat": 4,
  "vscode": {
   "interpreter": {
    "hash": "2c74b419440730e84fc5950e521620954f0e1d096b88359a10292697c87b1171"
   }
  }
 },
 "nbformat": 4,
 "nbformat_minor": 2
}
