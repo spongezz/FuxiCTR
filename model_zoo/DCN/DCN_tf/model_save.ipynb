{
 "cells": [
  {
   "cell_type": "code",
   "execution_count": null,
   "metadata": {},
   "outputs": [],
   "source": [
    "from fuxictr.utils import load_config, set_logger, print_to_json, print_to_list\n",
    "import tensorflow as tf\n",
    "\n"
   ]
  }
 ],
 "metadata": {
  "language_info": {
   "name": "python"
  },
  "orig_nbformat": 4
 },
 "nbformat": 4,
 "nbformat_minor": 2
}
